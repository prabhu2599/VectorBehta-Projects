{
  "nbformat": 4,
  "nbformat_minor": 0,
  "metadata": {
    "colab": {
      "name": "ImageDataGenerator Horse vs Humans - layers visualization.ipynb",
      "provenance": [],
      "collapsed_sections": [],
      "authorship_tag": "ABX9TyNRitsABi9uUGk+H2gD7OAO",
      "include_colab_link": true
    },
    "kernelspec": {
      "name": "python3",
      "display_name": "Python 3"
    },
    "accelerator": "GPU"
  },
  "cells": [
    {
      "cell_type": "markdown",
      "metadata": {
        "id": "view-in-github",
        "colab_type": "text"
      },
      "source": [
        "<a href=\"https://colab.research.google.com/github/prabhu2599/VectorBehta-Projects/blob/main/ImageDataGenerator_Horse_vs_Humans_layers_visualization.ipynb\" target=\"_parent\"><img src=\"https://colab.research.google.com/assets/colab-badge.svg\" alt=\"Open In Colab\"/></a>"
      ]
    },
    {
      "cell_type": "code",
      "metadata": {
        "id": "ByWkAMrSTUZO",
        "colab": {
          "base_uri": "https://localhost:8080/"
        },
        "outputId": "753a7873-be44-40a2-e64c-42f7fa1c356b"
      },
      "source": [
        "!wget --no-check-certificate \\\n",
        "    https://storage.googleapis.com/laurencemoroney-blog.appspot.com/horse-or-human.zip \\\n",
        "    -O /tmp/horse-or-human.zip"
      ],
      "execution_count": null,
      "outputs": [
        {
          "output_type": "stream",
          "text": [
            "--2021-01-30 07:07:15--  https://storage.googleapis.com/laurencemoroney-blog.appspot.com/horse-or-human.zip\n",
            "Resolving storage.googleapis.com (storage.googleapis.com)... 142.250.73.240, 172.217.7.240, 172.217.13.240, ...\n",
            "Connecting to storage.googleapis.com (storage.googleapis.com)|142.250.73.240|:443... connected.\n",
            "HTTP request sent, awaiting response... 200 OK\n",
            "Length: 149574867 (143M) [application/zip]\n",
            "Saving to: ‘/tmp/horse-or-human.zip’\n",
            "\n",
            "/tmp/horse-or-human 100%[===================>] 142.65M   165MB/s    in 0.9s    \n",
            "\n",
            "2021-01-30 07:07:16 (165 MB/s) - ‘/tmp/horse-or-human.zip’ saved [149574867/149574867]\n",
            "\n"
          ],
          "name": "stdout"
        }
      ]
    },
    {
      "cell_type": "code",
      "metadata": {
        "id": "P6GoocdIHckg"
      },
      "source": [
        "import os\n",
        "import zipfile\n",
        "\n",
        "local_zip = '/tmp/horse-or-human.zip'\n",
        "zip_ref = zipfile.ZipFile(local_zip, 'r')\n",
        "zip_ref.extractall('/tmp/horse-or-human')\n",
        "zip_ref.close()"
      ],
      "execution_count": null,
      "outputs": []
    },
    {
      "cell_type": "code",
      "metadata": {
        "id": "199pswX-Hilr"
      },
      "source": [
        "train_horse_dir = os.path.join('/tmp/horse-or-human/horses')\n",
        "train_human_dir = os.path.join('/tmp/horse-or-human/humans')"
      ],
      "execution_count": null,
      "outputs": []
    },
    {
      "cell_type": "code",
      "metadata": {
        "colab": {
          "base_uri": "https://localhost:8080/"
        },
        "id": "CX4z-VkZH7dV",
        "outputId": "92c620cf-05cc-49b5-b374-bd6bdeaaaaf6"
      },
      "source": [
        "train_horse_names = os.listdir(train_horse_dir)\n",
        "print(train_horse_names[:10])\n",
        "\n",
        "train_human_names = os.listdir(train_human_dir)\n",
        "print(train_human_names[:10])"
      ],
      "execution_count": null,
      "outputs": [
        {
          "output_type": "stream",
          "text": [
            "['horse17-1.png', 'horse33-8.png', 'horse35-3.png', 'horse30-3.png', 'horse39-0.png', 'horse34-0.png', 'horse31-5.png', 'horse18-1.png', 'horse25-0.png', 'horse32-9.png']\n",
            "['human01-16.png', 'human06-05.png', 'human13-03.png', 'human14-10.png', 'human05-15.png', 'human11-21.png', 'human01-09.png', 'human12-30.png', 'human01-15.png', 'human17-04.png']\n"
          ],
          "name": "stdout"
        }
      ]
    },
    {
      "cell_type": "code",
      "metadata": {
        "id": "ITVR1KBcIAnz"
      },
      "source": [
        "import tensorflow as tf\n",
        "from tensorflow.keras.models import Sequential\n",
        "from tensorflow.keras.layers import Conv2D, MaxPool2D, Flatten, Dense\n",
        "from tensorflow.nn import relu, sigmoid\n",
        "from tensorflow.keras.optimizers import RMSprop\n",
        "from tensorflow.keras.losses import binary_crossentropy"
      ],
      "execution_count": null,
      "outputs": []
    },
    {
      "cell_type": "code",
      "metadata": {
        "id": "gns_2QmyI06o"
      },
      "source": [
        "model = Sequential([\n",
        "                    Conv2D(16, (3,3), activation='relu', input_shape=(300,300,3)),\n",
        "                    MaxPool2D(),\n",
        "                    Conv2D(32, (3,3), activation='relu'),\n",
        "                    MaxPool2D(),\n",
        "                    Conv2D(64, (3,3), activation='relu'),\n",
        "                    MaxPool2D(),\n",
        "                    Conv2D(64, (3,3), activation='relu'),\n",
        "                    MaxPool2D(),\n",
        "                    Conv2D(32, (3,3), activation='relu'),\n",
        "                    MaxPool2D(),\n",
        "                    Flatten(),\n",
        "                    Dense(512, activation='relu'),\n",
        "                    Dense(1, activation='sigmoid')\n",
        "])"
      ],
      "execution_count": null,
      "outputs": []
    },
    {
      "cell_type": "code",
      "metadata": {
        "colab": {
          "base_uri": "https://localhost:8080/"
        },
        "id": "4fbJGCC8Neb6",
        "outputId": "a1547109-2102-4d38-b2fe-bf5c9818ec27"
      },
      "source": [
        "model.summary()"
      ],
      "execution_count": null,
      "outputs": [
        {
          "output_type": "stream",
          "text": [
            "Model: \"sequential_2\"\n",
            "_________________________________________________________________\n",
            "Layer (type)                 Output Shape              Param #   \n",
            "=================================================================\n",
            "conv2d_10 (Conv2D)           (None, 298, 298, 16)      448       \n",
            "_________________________________________________________________\n",
            "max_pooling2d_10 (MaxPooling (None, 149, 149, 16)      0         \n",
            "_________________________________________________________________\n",
            "conv2d_11 (Conv2D)           (None, 147, 147, 32)      4640      \n",
            "_________________________________________________________________\n",
            "max_pooling2d_11 (MaxPooling (None, 73, 73, 32)        0         \n",
            "_________________________________________________________________\n",
            "conv2d_12 (Conv2D)           (None, 71, 71, 64)        18496     \n",
            "_________________________________________________________________\n",
            "max_pooling2d_12 (MaxPooling (None, 35, 35, 64)        0         \n",
            "_________________________________________________________________\n",
            "conv2d_13 (Conv2D)           (None, 33, 33, 64)        36928     \n",
            "_________________________________________________________________\n",
            "max_pooling2d_13 (MaxPooling (None, 16, 16, 64)        0         \n",
            "_________________________________________________________________\n",
            "conv2d_14 (Conv2D)           (None, 14, 14, 32)        18464     \n",
            "_________________________________________________________________\n",
            "max_pooling2d_14 (MaxPooling (None, 7, 7, 32)          0         \n",
            "_________________________________________________________________\n",
            "flatten_2 (Flatten)          (None, 1568)              0         \n",
            "_________________________________________________________________\n",
            "dense_4 (Dense)              (None, 512)               803328    \n",
            "_________________________________________________________________\n",
            "dense_5 (Dense)              (None, 1)                 513       \n",
            "=================================================================\n",
            "Total params: 882,817\n",
            "Trainable params: 882,817\n",
            "Non-trainable params: 0\n",
            "_________________________________________________________________\n"
          ],
          "name": "stdout"
        }
      ]
    },
    {
      "cell_type": "code",
      "metadata": {
        "id": "Kz2Cfm1ONjcU"
      },
      "source": [
        "model.compile(\n",
        "    loss= 'binary_crossentropy',\n",
        "    optimizer= RMSprop(lr=0.001),\n",
        "    metrics=['accuracy']\n",
        "    )"
      ],
      "execution_count": null,
      "outputs": []
    },
    {
      "cell_type": "code",
      "metadata": {
        "colab": {
          "base_uri": "https://localhost:8080/"
        },
        "id": "RWP4RNxuOYAn",
        "outputId": "d5ead69b-f44d-447a-86c9-b0306d5d826b"
      },
      "source": [
        "from tensorflow.keras.preprocessing.image import ImageDataGenerator\n",
        "\n",
        "train_datagen = ImageDataGenerator(rescale=1/255.0)\n",
        "train_gen = train_datagen.flow_from_directory(\n",
        "        '/tmp/horse-or-human/',\n",
        "        target_size=(300, 300), \n",
        "        batch_size=128,\n",
        "        class_mode='binary'\n",
        "      )\n"
      ],
      "execution_count": null,
      "outputs": [
        {
          "output_type": "stream",
          "text": [
            "Found 1027 images belonging to 2 classes.\n"
          ],
          "name": "stdout"
        }
      ]
    },
    {
      "cell_type": "code",
      "metadata": {
        "colab": {
          "base_uri": "https://localhost:8080/"
        },
        "id": "6Ep3DqZ5SKP4",
        "outputId": "e3326c1c-56b3-49fc-8574-3f3c9f6d7079"
      },
      "source": [
        "history = model.fit_generator(\n",
        "      train_gen,\n",
        "      steps_per_epoch=8,  \n",
        "      epochs=15,\n",
        "      )"
      ],
      "execution_count": null,
      "outputs": [
        {
          "output_type": "stream",
          "text": [
            "/usr/local/lib/python3.6/dist-packages/tensorflow/python/keras/engine/training.py:1844: UserWarning: `Model.fit_generator` is deprecated and will be removed in a future version. Please use `Model.fit`, which supports generators.\n",
            "  warnings.warn('`Model.fit_generator` is deprecated and '\n"
          ],
          "name": "stderr"
        },
        {
          "output_type": "stream",
          "text": [
            "Epoch 1/15\n",
            "8/8 [==============================] - 6s 789ms/step - loss: 0.6848 - accuracy: 0.7646\n",
            "Epoch 2/15\n",
            "8/8 [==============================] - 6s 703ms/step - loss: 0.8544 - accuracy: 0.7631\n",
            "Epoch 3/15\n",
            "8/8 [==============================] - 6s 689ms/step - loss: 0.2486 - accuracy: 0.9077\n",
            "Epoch 4/15\n",
            "8/8 [==============================] - 6s 687ms/step - loss: 0.4070 - accuracy: 0.8632\n",
            "Epoch 5/15\n",
            "8/8 [==============================] - 6s 668ms/step - loss: 0.2144 - accuracy: 0.9210\n",
            "Epoch 6/15\n",
            "8/8 [==============================] - 6s 687ms/step - loss: 0.1434 - accuracy: 0.9511\n",
            "Epoch 7/15\n",
            "8/8 [==============================] - 6s 790ms/step - loss: 0.0621 - accuracy: 0.9814\n",
            "Epoch 8/15\n",
            "8/8 [==============================] - 6s 703ms/step - loss: 0.3355 - accuracy: 0.9155\n",
            "Epoch 9/15\n",
            "8/8 [==============================] - 6s 809ms/step - loss: 0.0456 - accuracy: 0.9811\n",
            "Epoch 10/15\n",
            "8/8 [==============================] - 6s 693ms/step - loss: 0.0203 - accuracy: 0.9922\n",
            "Epoch 11/15\n",
            "8/8 [==============================] - 6s 705ms/step - loss: 0.2283 - accuracy: 0.9366\n",
            "Epoch 12/15\n",
            "8/8 [==============================] - 6s 812ms/step - loss: 0.0189 - accuracy: 0.9933\n",
            "Epoch 13/15\n",
            "8/8 [==============================] - 6s 700ms/step - loss: 0.1158 - accuracy: 0.9689\n",
            "Epoch 14/15\n",
            "8/8 [==============================] - 6s 690ms/step - loss: 0.3736 - accuracy: 0.8966\n",
            "Epoch 15/15\n",
            "8/8 [==============================] - 6s 696ms/step - loss: 0.0292 - accuracy: 0.9944\n"
          ],
          "name": "stdout"
        }
      ]
    },
    {
      "cell_type": "markdown",
      "metadata": {
        "id": "GWg93LGpTca_"
      },
      "source": [
        "# **To upload manual imaegs from directory and check**"
      ]
    },
    {
      "cell_type": "code",
      "metadata": {
        "id": "6GOafuUKTNr1"
      },
      "source": [
        "import numpy as np\n",
        "from google.colab import files\n",
        "from keras.preprocessing import image\n",
        "\n",
        "uploaded = files.upload()\n",
        "\n",
        "for fn in uploaded.keys():\n",
        " \n",
        "  # predicting images\n",
        "  path = '/content/' + fn\n",
        "  img = image.load_img(path, target_size=(300, 300))\n",
        "  x = image.img_to_array(img)\n",
        "  x = np.expand_dims(x, axis=0)\n",
        "\n",
        "  images = np.vstack([x])\n",
        "  classes = model.predict(images, batch_size=10)\n",
        "  print(classes[0])\n",
        "  if classes[0]>0.5:\n",
        "    print(fn + \" is a human\")\n",
        "  else:\n",
        "    print(fn + \" is a horse\")\n",
        " "
      ],
      "execution_count": null,
      "outputs": []
    },
    {
      "cell_type": "code",
      "metadata": {
        "id": "EpUbrU2OrgDd"
      },
      "source": [
        "import numpy as np\n",
        "import random\n",
        "from tensorflow.keras.preprocessing.image import img_to_array, load_img\n",
        "\n",
        "# Let's define a new Model that will take an image as input, and will output\n",
        "# intermediate representations for all layers in the previous model after\n",
        "# the first.\n",
        "successive_outputs = [layer.output for layer in model.layers[1:]]\n",
        "#visualization_model = Model(img_input, successive_outputs)\n",
        "visualization_model = tf.keras.models.Model(inputs = model.input, outputs = successive_outputs)\n",
        "# Let's prepare a random input image from the training set.\n",
        "horse_img_files = [os.path.join(train_horse_dir, f) for f in train_horse_names]\n",
        "human_img_files = [os.path.join(train_human_dir, f) for f in train_human_names]\n",
        "img_path = random.choice(horse_img_files + human_img_files)\n",
        "\n",
        "img = load_img(img_path, target_size=(300, 300))  # this is a PIL image\n",
        "x = img_to_array(img)  # Numpy array with shape (150, 150, 3)\n",
        "x = x.reshape((1,) + x.shape)  # Numpy array with shape (1, 150, 150, 3)\n",
        "\n",
        "# Rescale by 1/255\n",
        "x /= 255\n",
        "\n",
        "# Let's run our image through our network, thus obtaining all\n",
        "# intermediate representations for this image.\n",
        "successive_feature_maps = visualization_model.predict(x)\n",
        "\n",
        "# These are the names of the layers, so can have them as part of our plot\n",
        "layer_names = [layer.name for layer in model.layers[1:]]\n",
        "\n",
        "# Now let's display our representations\n",
        "for layer_name, feature_map in zip(layer_names, successive_feature_maps):\n",
        "  if len(feature_map.shape) == 4:\n",
        "    # Just do this for the conv / maxpool layers, not the fully-connected layers\n",
        "    n_features = feature_map.shape[-1]  # number of features in feature map\n",
        "    # The feature map has shape (1, size, size, n_features)\n",
        "    size = feature_map.shape[1]\n",
        "    # We will tile our images in this matrix\n",
        "    display_grid = np.zeros((size, size * n_features))\n",
        "    for i in range(n_features):\n",
        "      # Postprocess the feature to make it visually palatable\n",
        "      x = feature_map[0, :, :, i]\n",
        "      x -= x.mean()\n",
        "      x /= x.std()\n",
        "      x *= 64\n",
        "      x += 128\n",
        "      x = np.clip(x, 0, 255).astype('uint8')\n",
        "      # We'll tile each filter into this big horizontal grid\n",
        "      display_grid[:, i * size : (i + 1) * size] = x\n",
        "    # Display the grid\n",
        "    scale = 20. / n_features\n",
        "    plt.figure(figsize=(scale * n_features, scale))\n",
        "    plt.title(layer_name)\n",
        "    plt.grid(False)\n",
        "    plt.imshow(display_grid, aspect='auto', cmap='viridis')"
      ],
      "execution_count": null,
      "outputs": []
    },
    {
      "cell_type": "markdown",
      "metadata": {
        "id": "E-Z2zyW5rgxM"
      },
      "source": [
        "BAS... the abovw one was for layer by layer visualizing"
      ]
    },
    {
      "cell_type": "code",
      "metadata": {
        "id": "Mx2Xjaw4rkG4"
      },
      "source": [
        ""
      ],
      "execution_count": null,
      "outputs": []
    }
  ]
}