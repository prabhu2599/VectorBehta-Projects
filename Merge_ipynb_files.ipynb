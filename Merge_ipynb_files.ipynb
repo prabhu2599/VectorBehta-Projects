{
  "nbformat": 4,
  "nbformat_minor": 0,
  "metadata": {
    "colab": {
      "name": "Merge ipynb files.ipynb",
      "provenance": [],
      "authorship_tag": "ABX9TyPObF/EhvZTNt76QEbL7CEH",
      "include_colab_link": true
    },
    "kernelspec": {
      "name": "python3",
      "display_name": "Python 3"
    },
    "language_info": {
      "name": "python"
    }
  },
  "cells": [
    {
      "cell_type": "markdown",
      "metadata": {
        "id": "view-in-github",
        "colab_type": "text"
      },
      "source": [
        "<a href=\"https://colab.research.google.com/github/prabhu2599/VectorBehta-Projects/blob/main/Merge_ipynb_files.ipynb\" target=\"_parent\"><img src=\"https://colab.research.google.com/assets/colab-badge.svg\" alt=\"Open In Colab\"/></a>"
      ]
    },
    {
      "cell_type": "code",
      "metadata": {
        "id": "kQFzUVpM_K45"
      },
      "source": [
        "import json\n",
        "\n",
        "def read_ipynb(notebook_path):\n",
        "    with open(notebook_path, 'r', encoding='utf-8') as f:\n",
        "        return json.load(f)"
      ],
      "execution_count": null,
      "outputs": []
    },
    {
      "cell_type": "code",
      "metadata": {
        "id": "ldY7eKz6-U33"
      },
      "source": [
        "first_notebook = read_ipynb('/content/Kmeans_on_img')\n",
        "second_notebook = read_ipynb('/content/SVD_on_img.ipynb')"
      ],
      "execution_count": null,
      "outputs": []
    },
    {
      "cell_type": "code",
      "metadata": {
        "id": "nMxnUzN8_J6l"
      },
      "source": [
        "import copy\n",
        "final_notebook = copy.deepcopy(first_notebook)"
      ],
      "execution_count": null,
      "outputs": []
    },
    {
      "cell_type": "code",
      "metadata": {
        "id": "9149q-i0_U0I"
      },
      "source": [
        "final_notebook['cells'] = first_notebook['cells'] + second_notebook['cells']"
      ],
      "execution_count": null,
      "outputs": []
    },
    {
      "cell_type": "code",
      "metadata": {
        "id": "KzQCbHHV_Xg7"
      },
      "source": [
        "def write_ipynb(notebook, notebook_path):\n",
        "    with open(notebook_path, 'w', encoding='utf-8') as f:\n",
        "        json.dump(notebook, f)\n",
        "\n",
        "# Saving the resulting notebook\n",
        "write_ipynb(final_notebook, 'final_notebook.ipynb')"
      ],
      "execution_count": null,
      "outputs": []
    },
    {
      "cell_type": "code",
      "metadata": {
        "id": "Ed2aRWMQ_ajF"
      },
      "source": [
        ""
      ],
      "execution_count": null,
      "outputs": []
    }
  ]
}